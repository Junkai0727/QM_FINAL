{
 "cells": [
  {
   "cell_type": "code",
   "execution_count": 1,
   "metadata": {},
   "outputs": [],
   "source": [
    "import matplotlib.pyplot as plt\n",
    "import numpy as np\n",
    "import pandas as pd\n",
    "import scipy as sp\n",
    "\n",
    "import scipy.stats as sps"
   ]
  },
  {
   "cell_type": "code",
   "execution_count": 2,
   "metadata": {},
   "outputs": [],
   "source": [
    "d1 = pd.read_csv('shanghai.csv')"
   ]
  },
  {
   "cell_type": "code",
   "execution_count": 3,
   "metadata": {},
   "outputs": [
    {
     "data": {
      "text/html": [
       "<div>\n",
       "<style scoped>\n",
       "    .dataframe tbody tr th:only-of-type {\n",
       "        vertical-align: middle;\n",
       "    }\n",
       "\n",
       "    .dataframe tbody tr th {\n",
       "        vertical-align: top;\n",
       "    }\n",
       "\n",
       "    .dataframe thead th {\n",
       "        text-align: right;\n",
       "    }\n",
       "</style>\n",
       "<table border=\"1\" class=\"dataframe\">\n",
       "  <thead>\n",
       "    <tr style=\"text-align: right;\">\n",
       "      <th></th>\n",
       "      <th>Date</th>\n",
       "      <th>cumulative_cases</th>\n",
       "      <th>new_cases_daily</th>\n",
       "      <th>infected_cases</th>\n",
       "      <th>cumulative_death</th>\n",
       "      <th>cumulative_recovered</th>\n",
       "      <th>removed</th>\n",
       "      <th>daily_removed</th>\n",
       "      <th>Unnamed: 8</th>\n",
       "    </tr>\n",
       "  </thead>\n",
       "  <tbody>\n",
       "    <tr>\n",
       "      <th>0</th>\n",
       "      <td>44165</td>\n",
       "      <td>1332</td>\n",
       "      <td>2</td>\n",
       "      <td>48</td>\n",
       "      <td>7</td>\n",
       "      <td>1277</td>\n",
       "      <td>1284</td>\n",
       "      <td>5</td>\n",
       "      <td>0.104167</td>\n",
       "    </tr>\n",
       "    <tr>\n",
       "      <th>1</th>\n",
       "      <td>44166</td>\n",
       "      <td>1333</td>\n",
       "      <td>1</td>\n",
       "      <td>47</td>\n",
       "      <td>7</td>\n",
       "      <td>1279</td>\n",
       "      <td>1286</td>\n",
       "      <td>2</td>\n",
       "      <td>0.042553</td>\n",
       "    </tr>\n",
       "    <tr>\n",
       "      <th>2</th>\n",
       "      <td>44167</td>\n",
       "      <td>1341</td>\n",
       "      <td>8</td>\n",
       "      <td>54</td>\n",
       "      <td>7</td>\n",
       "      <td>1280</td>\n",
       "      <td>1287</td>\n",
       "      <td>1</td>\n",
       "      <td>0.018519</td>\n",
       "    </tr>\n",
       "    <tr>\n",
       "      <th>3</th>\n",
       "      <td>44168</td>\n",
       "      <td>1350</td>\n",
       "      <td>9</td>\n",
       "      <td>58</td>\n",
       "      <td>7</td>\n",
       "      <td>1285</td>\n",
       "      <td>1292</td>\n",
       "      <td>5</td>\n",
       "      <td>0.086207</td>\n",
       "    </tr>\n",
       "    <tr>\n",
       "      <th>4</th>\n",
       "      <td>44169</td>\n",
       "      <td>1353</td>\n",
       "      <td>3</td>\n",
       "      <td>58</td>\n",
       "      <td>7</td>\n",
       "      <td>1288</td>\n",
       "      <td>1295</td>\n",
       "      <td>3</td>\n",
       "      <td>0.051724</td>\n",
       "    </tr>\n",
       "  </tbody>\n",
       "</table>\n",
       "</div>"
      ],
      "text/plain": [
       "    Date  cumulative_cases  new_cases_daily  infected_cases  cumulative_death  \\\n",
       "0  44165              1332                2              48                 7   \n",
       "1  44166              1333                1              47                 7   \n",
       "2  44167              1341                8              54                 7   \n",
       "3  44168              1350                9              58                 7   \n",
       "4  44169              1353                3              58                 7   \n",
       "\n",
       "   cumulative_recovered  removed  daily_removed  Unnamed: 8  \n",
       "0                  1277     1284              5    0.104167  \n",
       "1                  1279     1286              2    0.042553  \n",
       "2                  1280     1287              1    0.018519  \n",
       "3                  1285     1292              5    0.086207  \n",
       "4                  1288     1295              3    0.051724  "
      ]
     },
     "execution_count": 3,
     "metadata": {},
     "output_type": "execute_result"
    }
   ],
   "source": [
    "d1.head()"
   ]
  },
  {
   "cell_type": "code",
   "execution_count": 4,
   "metadata": {},
   "outputs": [],
   "source": [
    "infected = d1['infected_cases']"
   ]
  },
  {
   "cell_type": "code",
   "execution_count": 36,
   "metadata": {},
   "outputs": [
    {
     "name": "stdout",
     "output_type": "stream",
     "text": [
      "S0=399 beta=0.100000 minErr=831003.913346\n",
      "S0 = 399 β = 0.100000\n"
     ]
    }
   ],
   "source": [
    "import numpy as np\n",
    "import scipy.integrate as spi\n",
    "\n",
    "\n",
    "gamma = 0.062757\n",
    "S0 = [i for i in range(100,400, 1)]\n",
    "beta = 0.18780284\n",
    "\n",
    "def error(res):\n",
    "    err = (infected - res)**2\n",
    "    errsum = sum(err)\n",
    "    return errsum\n",
    "# Exhaustive method\n",
    "minSum = 1e10\n",
    "minS0 = 0.0\n",
    "minBeta = 0.0\n",
    "bestRes = None\n",
    "for S in S0:\n",
    "        def diff_eqs_2(INP, t):\n",
    "            Y = np.zeros((3))\n",
    "            V = INP\n",
    "            Y[0] = -b * V[0] * V[1]\n",
    "            Y[1] = b * V[0] * V[1] - gamma * V[1]\n",
    "            Y[2] = gamma * V[1]\n",
    "            return Y\n",
    "I0 = 48\n",
    "t_range = range(42)\n",
    "\n",
    "INPUT = [S, I0, 0.0]\n",
    "RES = spi.odeint(diff_eqs_2, INPUT, t_range)\n",
    "errsum = error(RES[:42, 1])\n",
    "if errsum < minSum:\n",
    "    minSum = errsum\n",
    "    minS0 = S\n",
    "    minBeta = b\n",
    "    bestRes = RES\n",
    "print(\"S0=%d beta=%f minErr=%f\" % (S, b, errsum))\n",
    "print(\"S0 = %d β = %f\" % (minS0, minBeta))"
   ]
  }
 ],
 "metadata": {
  "kernelspec": {
   "display_name": "Python 3",
   "language": "python",
   "name": "python3"
  },
  "language_info": {
   "codemirror_mode": {
    "name": "ipython",
    "version": 3
   },
   "file_extension": ".py",
   "mimetype": "text/x-python",
   "name": "python",
   "nbconvert_exporter": "python",
   "pygments_lexer": "ipython3",
   "version": "3.7.8"
  }
 },
 "nbformat": 4,
 "nbformat_minor": 4
}
