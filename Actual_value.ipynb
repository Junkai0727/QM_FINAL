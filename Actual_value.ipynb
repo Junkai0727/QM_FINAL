{
 "cells": [
  {
   "cell_type": "code",
   "execution_count": 5,
   "metadata": {},
   "outputs": [],
   "source": [
    "import matplotlib.pyplot as plt\n",
    "import numpy as np\n",
    "import pandas as pd\n",
    "import scipy as sp\n",
    "import scipy.stats as sps"
   ]
  },
  {
   "cell_type": "code",
   "execution_count": 10,
   "metadata": {},
   "outputs": [],
   "source": [
    "d1 = pd.read_csv('shanghai.csv')"
   ]
  },
  {
   "cell_type": "code",
   "execution_count": 11,
   "metadata": {},
   "outputs": [
    {
     "data": {
      "text/html": [
       "<div>\n",
       "<style scoped>\n",
       "    .dataframe tbody tr th:only-of-type {\n",
       "        vertical-align: middle;\n",
       "    }\n",
       "\n",
       "    .dataframe tbody tr th {\n",
       "        vertical-align: top;\n",
       "    }\n",
       "\n",
       "    .dataframe thead th {\n",
       "        text-align: right;\n",
       "    }\n",
       "</style>\n",
       "<table border=\"1\" class=\"dataframe\">\n",
       "  <thead>\n",
       "    <tr style=\"text-align: right;\">\n",
       "      <th></th>\n",
       "      <th>Date</th>\n",
       "      <th>cumulative_cases</th>\n",
       "      <th>new_cases_daily</th>\n",
       "      <th>infected_cases</th>\n",
       "      <th>cumulative_death</th>\n",
       "      <th>cumulative_recovered</th>\n",
       "      <th>removed</th>\n",
       "      <th>daily_removed</th>\n",
       "      <th>removed_1130</th>\n",
       "    </tr>\n",
       "  </thead>\n",
       "  <tbody>\n",
       "    <tr>\n",
       "      <th>0</th>\n",
       "      <td>2020/11/30</td>\n",
       "      <td>1332</td>\n",
       "      <td>2</td>\n",
       "      <td>48</td>\n",
       "      <td>7</td>\n",
       "      <td>1277</td>\n",
       "      <td>1284</td>\n",
       "      <td>5</td>\n",
       "      <td>5</td>\n",
       "    </tr>\n",
       "    <tr>\n",
       "      <th>1</th>\n",
       "      <td>2020/12/1</td>\n",
       "      <td>1333</td>\n",
       "      <td>1</td>\n",
       "      <td>47</td>\n",
       "      <td>7</td>\n",
       "      <td>1279</td>\n",
       "      <td>1286</td>\n",
       "      <td>2</td>\n",
       "      <td>7</td>\n",
       "    </tr>\n",
       "    <tr>\n",
       "      <th>2</th>\n",
       "      <td>2020/12/2</td>\n",
       "      <td>1341</td>\n",
       "      <td>8</td>\n",
       "      <td>54</td>\n",
       "      <td>7</td>\n",
       "      <td>1280</td>\n",
       "      <td>1287</td>\n",
       "      <td>1</td>\n",
       "      <td>8</td>\n",
       "    </tr>\n",
       "    <tr>\n",
       "      <th>3</th>\n",
       "      <td>2020/12/3</td>\n",
       "      <td>1350</td>\n",
       "      <td>9</td>\n",
       "      <td>58</td>\n",
       "      <td>7</td>\n",
       "      <td>1285</td>\n",
       "      <td>1292</td>\n",
       "      <td>5</td>\n",
       "      <td>13</td>\n",
       "    </tr>\n",
       "    <tr>\n",
       "      <th>4</th>\n",
       "      <td>2020/12/4</td>\n",
       "      <td>1353</td>\n",
       "      <td>3</td>\n",
       "      <td>58</td>\n",
       "      <td>7</td>\n",
       "      <td>1288</td>\n",
       "      <td>1295</td>\n",
       "      <td>3</td>\n",
       "      <td>16</td>\n",
       "    </tr>\n",
       "  </tbody>\n",
       "</table>\n",
       "</div>"
      ],
      "text/plain": [
       "         Date  cumulative_cases  new_cases_daily  infected_cases  \\\n",
       "0  2020/11/30              1332                2              48   \n",
       "1   2020/12/1              1333                1              47   \n",
       "2   2020/12/2              1341                8              54   \n",
       "3   2020/12/3              1350                9              58   \n",
       "4   2020/12/4              1353                3              58   \n",
       "\n",
       "   cumulative_death  cumulative_recovered  removed  daily_removed  \\\n",
       "0                 7                  1277     1284              5   \n",
       "1                 7                  1279     1286              2   \n",
       "2                 7                  1280     1287              1   \n",
       "3                 7                  1285     1292              5   \n",
       "4                 7                  1288     1295              3   \n",
       "\n",
       "   removed_1130  \n",
       "0             5  \n",
       "1             7  \n",
       "2             8  \n",
       "3            13  \n",
       "4            16  "
      ]
     },
     "execution_count": 11,
     "metadata": {},
     "output_type": "execute_result"
    }
   ],
   "source": [
    "d1.head()"
   ]
  },
  {
   "cell_type": "code",
   "execution_count": 17,
   "metadata": {},
   "outputs": [],
   "source": [
    "x = [1, 2, 3, 4, 5, 6, 7, 8, 9, 10, 11, 12, 13, 14, 15, 16, 17, 18, 19, 20, 21, 22, 23, 24, 25, 26, 27, 28, 29, 30, 31, 32, 33, 34, 35, 36, 37, 38, 39, 40, 41, 42]\n",
    "y = d1['infected_cases']"
   ]
  },
  {
   "cell_type": "code",
   "execution_count": 23,
   "metadata": {},
   "outputs": [
    {
     "name": "stdout",
     "output_type": "stream",
     "text": [
      "           4           3          2\n",
      "0.0001957 x - 0.01575 x + 0.3326 x + 0.6868 x + 47.79\n"
     ]
    },
    {
     "data": {
      "image/png": "[encoded data removed]",
      "text/plain": [
       "<Figure size 432x288 with 1 Axes>"
      ]
     },
     "metadata": {
      "needs_background": "light"
     },
     "output_type": "display_data"
    }
   ],
   "source": [
    "z1 = np.polyfit(x, y, 4) \n",
    "p1 = np.poly1d(z1)\n",
    "print(p1) \n",
    "yvals=p1(x) \n",
    "plot1=plt.plot(x, y, '*',label='infected')\n",
    "plot2=plt.plot(x, yvals, 'r',label='polyfit values')\n",
    "plt.xlabel('time')\n",
    "plt.ylabel('infected')\n",
    "plt.legend(loc=4) \n",
    "plt.title('infected_cases')\n",
    "plt.show()"
   ]
  },
  {
   "cell_type": "code",
   "execution_count": 22,
   "metadata": {},
   "outputs": [
    {
     "name": "stdout",
     "output_type": "stream",
     "text": [
      "            4            3          2\n",
      "-0.0001267 x + 0.008622 x - 0.1143 x + 3.257 x + 1.201\n"
     ]
    },
    {
     "data": {
      "image/png": "[encoded data removed]",
      "text/plain": [
       "<Figure size 432x288 with 1 Axes>"
      ]
     },
     "metadata": {
      "needs_background": "light"
     },
     "output_type": "display_data"
    }
   ],
   "source": [
    "y1 = d1['removed_1130']\n",
    "z1 = np.polyfit(x, y1, 4)\n",
    "p1 = np.poly1d(z1)\n",
    "print(p1) \n",
    "y1vals=p1(x) \n",
    "plot1=plt.plot(x, y1, '*',label='removed')\n",
    "plot2=plt.plot(x, y1vals, 'r',label='polyfit values')\n",
    "plt.xlabel('time')\n",
    "plt.ylabel('removed_cases')\n",
    "plt.legend(loc=4) \n",
    "plt.title('removed_cases'\n",
    "         )\n",
    "plt.show()"
   ]
  }
 ],
 "metadata": {
  "kernelspec": {
   "display_name": "Python 3",
   "language": "python",
   "name": "python3"
  },
  "language_info": {
   "codemirror_mode": {
    "name": "ipython",
    "version": 3
   },
   "file_extension": ".py",
   "mimetype": "text/x-python",
   "name": "python",
   "nbconvert_exporter": "python",
   "pygments_lexer": "ipython3",
   "version": "3.7.8"
  }
 },
 "nbformat": 4,
 "nbformat_minor": 4
}
